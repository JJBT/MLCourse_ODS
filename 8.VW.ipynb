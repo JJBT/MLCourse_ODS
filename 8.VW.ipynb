{
 "cells": [
  {
   "cell_type": "code",
   "execution_count": 95,
   "metadata": {},
   "outputs": [],
   "source": [
    "import re\n",
    "import numpy as np\n",
    "\n",
    "from sklearn.datasets import fetch_20newsgroups\n",
    "from sklearn.model_selection import train_test_split\n",
    "from sklearn.metrics import roc_auc_score, roc_curve, accuracy_score, confusion_matrix\n",
    "from sklearn.preprocessing import LabelEncoder\n",
    "import matplotlib.pyplot as plt\n"
   ]
  },
  {
   "cell_type": "code",
   "execution_count": 5,
   "metadata": {},
   "outputs": [],
   "source": [
    "newsgroups = fetch_20newsgroups('dataset/news_data')\n",
    "target = newsgroups['target_names'][newsgroups['target'][0]]\n"
   ]
  },
  {
   "cell_type": "code",
   "execution_count": 41,
   "metadata": {},
   "outputs": [],
   "source": [
    "def to_vw_format(document, label=None):\n",
    "    return str(label or '') + ' |text ' + ' '.join(re.findall('\\w{3,}', document.lower())) + '\\n'\n"
   ]
  },
  {
   "cell_type": "code",
   "execution_count": 8,
   "metadata": {},
   "outputs": [],
   "source": [
    "all_documents = newsgroups['data']\n",
    "all_targets = [1 if newsgroups['target_names'][target] == 'rec.autos' else -1 for target in newsgroups['target']]\n",
    "\n",
    "train_documents, test_documents, train_labels, test_labels = \\\n",
    "    train_test_split(all_documents, all_targets, random_state=17)\n"
   ]
  },
  {
   "cell_type": "markdown",
   "metadata": {},
   "source": [
    "# Классификация писем на тематики \"автомобильная\" и \"не автомобильные\""
   ]
  },
  {
   "cell_type": "code",
   "execution_count": 33,
   "metadata": {},
   "outputs": [],
   "source": [
    "with open('dataset/news_data/20news_train.vw', 'w', encoding='utf-8') as vw_train_data:\n",
    "    for text, target in zip(train_documents, train_labels):\n",
    "        vw_train_data.write(to_vw_format(text, target))\n",
    "\n",
    "with open('dataset/news_data/20news_test.vw', 'w', encoding='utf-8') as vw_test_data:\n",
    "    for text in test_documents:\n",
    "        vw_test_data.write(to_vw_format(text))\n",
    "        "
   ]
  },
  {
   "cell_type": "markdown",
   "metadata": {},
   "source": [
    "Обучаем модель"
   ]
  },
  {
   "cell_type": "code",
   "execution_count": 34,
   "metadata": {},
   "outputs": [
    {
     "name": "stderr",
     "output_type": "stream",
     "text": [
      "final_regressor = dataset/news_data/20news_model.vw\n",
      "Num weight bits = 18\n",
      "learning rate = 0.5\n",
      "initial_t = 0\n",
      "power_t = 0.5\n",
      "using no cache\n",
      "Reading datafile = dataset/news_data/20news_train.vw\n",
      "num sources = 1\n",
      "average  since         example        example  current  current  current\n",
      "loss     last          counter         weight    label  predict features\n",
      "1.000000 1.000000            1            1.0  -1.0000   0.0000      144\n",
      "0.500000 0.000000            2            2.0  -1.0000  -1.0000      270\n",
      "0.340324 0.180648            4            4.0  -1.0000  -0.9480      244\n",
      "0.417071 0.493818            8            8.0  -1.0000  -1.0000      151\n",
      "0.283219 0.149366           16           16.0  -1.0000  -1.0000      128\n",
      "0.211971 0.140724           32           32.0  -1.0000  -0.3997       28\n",
      "0.116923 0.021875           64           64.0  -1.0000  -1.0000      103\n",
      "0.158355 0.199787          128          128.0  -1.0000  -0.8313      127\n",
      "0.125210 0.092065          256          256.0  -1.0000  -0.9422       46\n",
      "0.150460 0.175711          512          512.0  -1.0000  -1.0000      139\n",
      "0.133359 0.116258         1024         1024.0  -1.0000  -1.0000      136\n",
      "0.124270 0.115181         2048         2048.0  -1.0000  -1.0000      409\n",
      "0.105939 0.087609         4096         4096.0   1.0000   0.7067      167\n",
      "0.078980 0.052020         8192         8192.0  -1.0000  -1.0000      610\n",
      "\n",
      "finished run\n",
      "number of examples per pass = 8485\n",
      "passes used = 1\n",
      "weighted example sum = 8485.000000\n",
      "weighted label sum = -7577.000000\n",
      "average loss = 0.077667\n",
      "best constant = -1.000000\n",
      "best constant's loss = 0.107012\n",
      "total feature number = 1994587\n"
     ]
    }
   ],
   "source": [
    "!vw -d dataset/news_data/20news_train.vw \\\n",
    "  --loss_function hinge -f dataset/news_data/20news_model.vw"
   ]
  },
  {
   "cell_type": "markdown",
   "metadata": {},
   "source": [
    "Предсказываем и записываем в файл"
   ]
  },
  {
   "cell_type": "code",
   "execution_count": 35,
   "metadata": {},
   "outputs": [
    {
     "name": "stderr",
     "output_type": "stream",
     "text": [
      "only testing\n",
      "predictions = dataset/news_data/20news_test_predictions.txt\n",
      "Num weight bits = 18\n",
      "learning rate = 0.5\n",
      "initial_t = 0\n",
      "power_t = 0.5\n",
      "using no cache\n",
      "Reading datafile = dataset/news_data/20news_test.vw\n",
      "num sources = 1\n",
      "average  since         example        example  current  current  current\n",
      "loss     last          counter         weight    label  predict features\n",
      "    n.a.     n.a.            1            1.0  unknown  -1.0000      143\n",
      "    n.a.     n.a.            2            2.0  unknown  -1.0000       42\n",
      "    n.a.     n.a.            4            4.0  unknown  -0.8455       72\n",
      "    n.a.     n.a.            8            8.0  unknown   0.5062       54\n",
      "    n.a.     n.a.           16           16.0  unknown  -1.0000      796\n",
      "    n.a.     n.a.           32           32.0  unknown  -1.0000      187\n",
      "    n.a.     n.a.           64           64.0  unknown  -0.5900      215\n",
      "    n.a.     n.a.          128          128.0  unknown  -1.0000      139\n",
      "    n.a.     n.a.          256          256.0  unknown  -1.0000      248\n",
      "    n.a.     n.a.          512          512.0  unknown  -1.0000      192\n",
      "    n.a.     n.a.         1024         1024.0  unknown  -1.0000       97\n",
      "    n.a.     n.a.         2048         2048.0  unknown  -1.0000      132\n",
      "\n",
      "finished run\n",
      "number of examples per pass = 2829\n",
      "passes used = 1\n",
      "weighted example sum = 2829.000000\n",
      "weighted label sum = 0.000000\n",
      "average loss = n.a.\n",
      "total feature number = 696560\n"
     ]
    }
   ],
   "source": [
    "!vw -i dataset/news_data/20news_model.vw -t -d dataset/news_data/20news_test.vw \\\n",
    "-p dataset/news_data/20news_test_predictions.txt\n"
   ]
  },
  {
   "cell_type": "code",
   "execution_count": 40,
   "metadata": {},
   "outputs": [
    {
     "data": {
      "image/png": "[encoded data removed]",
      "text/plain": [
       "<Figure size 432x288 with 1 Axes>"
      ]
     },
     "metadata": {},
     "output_type": "display_data"
    }
   ],
   "source": [
    "with open('dataset/news_data/20news_test_predictions.txt') as pred_file:\n",
    "    test_prediction = [float(label) \n",
    "                             for label in pred_file.readlines()]\n",
    "\n",
    "auc = roc_auc_score(test_labels, test_prediction)\n",
    "roc_curve = roc_curve(test_labels, test_prediction)\n",
    "\n",
    "with plt.xkcd():\n",
    "    plt.plot(roc_curve[0], roc_curve[1]);\n",
    "    plt.plot([0,1], [0,1])\n",
    "    plt.xlabel('FPR'); \n",
    "    plt.ylabel('TPR'); \n",
    "    plt.title('test AUC = %f' % (auc)); \n",
    "    plt.axis([-0.05,1.05,-0.05,1.05]);"
   ]
  },
  {
   "cell_type": "markdown",
   "metadata": {},
   "source": [
    "# Многоклассовая классификация"
   ]
  },
  {
   "cell_type": "code",
   "execution_count": 80,
   "metadata": {},
   "outputs": [],
   "source": [
    "all_documents = newsgroups['data']\n",
    "all_targets_mult = newsgroups['target'] + 1"
   ]
  },
  {
   "cell_type": "code",
   "execution_count": 82,
   "metadata": {},
   "outputs": [],
   "source": [
    "train_documents, test_documents, train_labels_mult, test_labels_mult = \\\n",
    "    train_test_split(all_documents, all_targets_mult, random_state=17)\n",
    "\n",
    "with open('dataset/news_data/20news_train_mult.vw', 'w', encoding='utf-8') as vw_train_data:\n",
    "    for text, target in zip(train_documents, train_labels_mult):\n",
    "        vw_train_data.write(to_vw_format(text, target))\n",
    "        \n",
    "with open('dataset/news_data/20news_test_mult.vw', 'w', encoding='utf-8') as vw_test_data:\n",
    "    for text in test_documents:\n",
    "        vw_test_data.write(to_vw_format(text))"
   ]
  },
  {
   "cell_type": "markdown",
   "metadata": {},
   "source": [
    "Обучаем модель.\n",
    "-oaa - one-against-all"
   ]
  },
  {
   "cell_type": "code",
   "execution_count": 85,
   "metadata": {},
   "outputs": [
    {
     "name": "stdout",
     "output_type": "stream",
     "text": [
      "Wall time: 1.14 s\n"
     ]
    },
    {
     "name": "stderr",
     "output_type": "stream",
     "text": [
      "final_regressor = dataset/news_data/20news_model_mult.vw\n",
      "Num weight bits = 18\n",
      "learning rate = 0.5\n",
      "initial_t = 0\n",
      "power_t = 0.5\n",
      "using no cache\n",
      "Reading datafile = dataset/news_data/20news_train_mult.vw\n",
      "num sources = 1\n",
      "average  since         example        example  current  current  current\n",
      "loss     last          counter         weight    label  predict features\n",
      "0.000000 0.000000            1            1.0        1        1      144\n",
      "0.500000 1.000000            2            2.0       16        1      270\n",
      "0.750000 1.000000            4            4.0       10       14      244\n",
      "0.875000 1.000000            8            8.0       13       10      151\n",
      "0.937500 1.000000           16           16.0        9       17      128\n",
      "0.875000 0.812500           32           32.0       15        5       28\n",
      "0.875000 0.875000           64           64.0        3        3      103\n",
      "0.835938 0.796875          128          128.0       15       15      127\n",
      "0.750000 0.664063          256          256.0       20        3       46\n",
      "0.628906 0.507813          512          512.0       17       17      139\n",
      "0.506836 0.384766         1024         1024.0        4        4      136\n",
      "0.387207 0.267578         2048         2048.0        7        3      409\n",
      "0.294922 0.202637         4096         4096.0        8        8      167\n",
      "0.225830 0.156738         8192         8192.0       16       16      610\n",
      "\n",
      "finished run\n",
      "number of examples per pass = 8485\n",
      "passes used = 1\n",
      "weighted example sum = 8485.000000\n",
      "weighted label sum = 0.000000\n",
      "average loss = 0.222275\n",
      "total feature number = 1994587\n"
     ]
    }
   ],
   "source": [
    "%%time\n",
    "!vw --oaa 20 dataset/news_data/20news_train_mult.vw \\\n",
    "-f dataset/news_data/20news_model_mult.vw --loss_function=hinge"
   ]
  },
  {
   "cell_type": "code",
   "execution_count": 88,
   "metadata": {},
   "outputs": [
    {
     "name": "stdout",
     "output_type": "stream",
     "text": [
      "Wall time: 192 ms\n"
     ]
    },
    {
     "name": "stderr",
     "output_type": "stream",
     "text": [
      "only testing\n",
      "predictions = dataset/news_data/20news_test_predictions_mult.txt\n",
      "Num weight bits = 18\n",
      "learning rate = 0.5\n",
      "initial_t = 0\n",
      "power_t = 0.5\n",
      "using no cache\n",
      "Reading datafile = dataset/news_data/20news_test_mult.vw\n",
      "num sources = 1\n",
      "average  since         example        example  current  current  current\n",
      "loss     last          counter         weight    label  predict features\n",
      "    n.a.     n.a.            1            1.0  unknown        4      143\n",
      "    n.a.     n.a.            2            2.0  unknown        5       42\n",
      "    n.a.     n.a.            4            4.0  unknown       13       72\n",
      "    n.a.     n.a.            8            8.0  unknown        8       54\n",
      "    n.a.     n.a.           16           16.0  unknown        1      796\n",
      "    n.a.     n.a.           32           32.0  unknown       11      187\n",
      "    n.a.     n.a.           64           64.0  unknown       13      215\n",
      "    n.a.     n.a.          128          128.0  unknown       13      139\n",
      "    n.a.     n.a.          256          256.0  unknown       17      248\n",
      "    n.a.     n.a.          512          512.0  unknown        6      192\n",
      "    n.a.     n.a.         1024         1024.0  unknown       14       97\n",
      "    n.a.     n.a.         2048         2048.0  unknown        6      132\n",
      "\n",
      "finished run\n",
      "number of examples per pass = 2829\n",
      "passes used = 1\n",
      "weighted example sum = 2829.000000\n",
      "weighted label sum = 0.000000\n",
      "average loss = n.a.\n",
      "total feature number = 696560\n"
     ]
    }
   ],
   "source": [
    "%%time\n",
    "!vw -i dataset/news_data/20news_model_mult.vw -t \\\n",
    "-d dataset/news_data/20news_test_mult.vw \\\n",
    "-p dataset/news_data/20news_test_predictions_mult.txt"
   ]
  },
  {
   "cell_type": "code",
   "execution_count": 89,
   "metadata": {},
   "outputs": [],
   "source": [
    "with open('dataset/news_data/20news_test_predictions_mult.txt') as pred_file:\n",
    "    test_prediction_mult = [float(label) \n",
    "                            for label in pred_file.readlines()]"
   ]
  },
  {
   "cell_type": "code",
   "execution_count": 91,
   "metadata": {},
   "outputs": [
    {
     "data": {
      "text/plain": [
       "0.871332626369742"
      ]
     },
     "execution_count": 91,
     "metadata": {},
     "output_type": "execute_result"
    }
   ],
   "source": [
    "accuracy_score(test_labels_mult, test_prediction_mult)\n"
   ]
  },
  {
   "cell_type": "markdown",
   "metadata": {},
   "source": [
    "#### C какими темами классификатор путает атеизм"
   ]
  },
  {
   "cell_type": "code",
   "execution_count": 102,
   "metadata": {},
   "outputs": [
    {
     "name": "stdout",
     "output_type": "stream",
     "text": [
      "comp.sys.ibm.pc.hardware 1\n",
      "rec.sport.hockey 1\n",
      "soc.religion.christian 3\n",
      "talk.politics.guns 2\n",
      "talk.religion.misc 8\n"
     ]
    }
   ],
   "source": [
    "M = confusion_matrix(test_labels_mult, test_prediction_mult)\n",
    "for i in np.where(M[0,:] > 0)[0][1:]:\n",
    "    print(newsgroups['target_names'][i], M[0, i])\n"
   ]
  },
  {
   "cell_type": "code",
   "execution_count": null,
   "metadata": {},
   "outputs": [],
   "source": []
  }
 ],
 "metadata": {
  "kernelspec": {
   "display_name": "Python 3",
   "language": "python",
   "name": "python3"
  },
  "language_info": {
   "codemirror_mode": {
    "name": "ipython",
    "version": 3
   },
   "file_extension": ".py",
   "mimetype": "text/x-python",
   "name": "python",
   "nbconvert_exporter": "python",
   "pygments_lexer": "ipython3",
   "version": "3.6.1"
  }
 },
 "nbformat": 4,
 "nbformat_minor": 1
}
